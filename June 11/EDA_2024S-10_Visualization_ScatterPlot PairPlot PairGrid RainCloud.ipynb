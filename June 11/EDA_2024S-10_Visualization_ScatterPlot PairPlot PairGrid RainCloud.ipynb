{
 "cells": [
  {
   "attachments": {},
   "cell_type": "markdown",
   "metadata": {
    "id": "bMciVd5PfsO1"
   },
   "source": [
    "# Data Visualization using Python"
   ]
  },
  {
   "cell_type": "code",
   "metadata": {
    "id": "vXUEp4BYxNNl",
    "ExecuteTime": {
     "end_time": "2024-06-17T13:54:54.774304Z",
     "start_time": "2024-06-17T13:54:54.583688Z"
    }
   },
   "source": [
    "import matplotlib.pyplot as plt\n",
    "import seaborn as sns\n",
    "import numpy as np\n",
    "import pandas as pd\n",
    "from scipy.stats import linregress"
   ],
   "outputs": [
    {
     "ename": "AttributeError",
     "evalue": "module 'matplotlib.cm' has no attribute 'register_cmap'",
     "output_type": "error",
     "traceback": [
      "\u001B[0;31m---------------------------------------------------------------------------\u001B[0m",
      "\u001B[0;31mAttributeError\u001B[0m                            Traceback (most recent call last)",
      "Cell \u001B[0;32mIn[1], line 2\u001B[0m\n\u001B[1;32m      1\u001B[0m \u001B[38;5;28;01mimport\u001B[39;00m \u001B[38;5;21;01mmatplotlib\u001B[39;00m\u001B[38;5;21;01m.\u001B[39;00m\u001B[38;5;21;01mpyplot\u001B[39;00m \u001B[38;5;28;01mas\u001B[39;00m \u001B[38;5;21;01mplt\u001B[39;00m\n\u001B[0;32m----> 2\u001B[0m \u001B[38;5;28;01mimport\u001B[39;00m \u001B[38;5;21;01mseaborn\u001B[39;00m \u001B[38;5;28;01mas\u001B[39;00m \u001B[38;5;21;01msns\u001B[39;00m\n\u001B[1;32m      3\u001B[0m \u001B[38;5;28;01mimport\u001B[39;00m \u001B[38;5;21;01mnumpy\u001B[39;00m \u001B[38;5;28;01mas\u001B[39;00m \u001B[38;5;21;01mnp\u001B[39;00m\n\u001B[1;32m      4\u001B[0m \u001B[38;5;28;01mimport\u001B[39;00m \u001B[38;5;21;01mpandas\u001B[39;00m \u001B[38;5;28;01mas\u001B[39;00m \u001B[38;5;21;01mpd\u001B[39;00m\n",
      "File \u001B[0;32m~/anaconda3/lib/python3.10/site-packages/seaborn/__init__.py:9\u001B[0m\n\u001B[1;32m      7\u001B[0m \u001B[38;5;28;01mfrom\u001B[39;00m \u001B[38;5;21;01m.\u001B[39;00m\u001B[38;5;21;01mcategorical\u001B[39;00m \u001B[38;5;28;01mimport\u001B[39;00m \u001B[38;5;241m*\u001B[39m  \u001B[38;5;66;03m# noqa: F401,F403\u001B[39;00m\n\u001B[1;32m      8\u001B[0m \u001B[38;5;28;01mfrom\u001B[39;00m \u001B[38;5;21;01m.\u001B[39;00m\u001B[38;5;21;01mdistributions\u001B[39;00m \u001B[38;5;28;01mimport\u001B[39;00m \u001B[38;5;241m*\u001B[39m  \u001B[38;5;66;03m# noqa: F401,F403\u001B[39;00m\n\u001B[0;32m----> 9\u001B[0m \u001B[38;5;28;01mfrom\u001B[39;00m \u001B[38;5;21;01m.\u001B[39;00m\u001B[38;5;21;01mmatrix\u001B[39;00m \u001B[38;5;28;01mimport\u001B[39;00m \u001B[38;5;241m*\u001B[39m  \u001B[38;5;66;03m# noqa: F401,F403\u001B[39;00m\n\u001B[1;32m     10\u001B[0m \u001B[38;5;28;01mfrom\u001B[39;00m \u001B[38;5;21;01m.\u001B[39;00m\u001B[38;5;21;01mmiscplot\u001B[39;00m \u001B[38;5;28;01mimport\u001B[39;00m \u001B[38;5;241m*\u001B[39m  \u001B[38;5;66;03m# noqa: F401,F403\u001B[39;00m\n\u001B[1;32m     11\u001B[0m \u001B[38;5;28;01mfrom\u001B[39;00m \u001B[38;5;21;01m.\u001B[39;00m\u001B[38;5;21;01maxisgrid\u001B[39;00m \u001B[38;5;28;01mimport\u001B[39;00m \u001B[38;5;241m*\u001B[39m  \u001B[38;5;66;03m# noqa: F401,F403\u001B[39;00m\n",
      "File \u001B[0;32m~/anaconda3/lib/python3.10/site-packages/seaborn/matrix.py:13\u001B[0m\n\u001B[1;32m     10\u001B[0m \u001B[38;5;28;01mimport\u001B[39;00m \u001B[38;5;21;01mpandas\u001B[39;00m \u001B[38;5;28;01mas\u001B[39;00m \u001B[38;5;21;01mpd\u001B[39;00m\n\u001B[1;32m     11\u001B[0m \u001B[38;5;28;01mfrom\u001B[39;00m \u001B[38;5;21;01mscipy\u001B[39;00m\u001B[38;5;21;01m.\u001B[39;00m\u001B[38;5;21;01mcluster\u001B[39;00m \u001B[38;5;28;01mimport\u001B[39;00m hierarchy\n\u001B[0;32m---> 13\u001B[0m \u001B[38;5;28;01mfrom\u001B[39;00m \u001B[38;5;21;01m.\u001B[39;00m \u001B[38;5;28;01mimport\u001B[39;00m cm\n\u001B[1;32m     14\u001B[0m \u001B[38;5;28;01mfrom\u001B[39;00m \u001B[38;5;21;01m.\u001B[39;00m\u001B[38;5;21;01maxisgrid\u001B[39;00m \u001B[38;5;28;01mimport\u001B[39;00m Grid\n\u001B[1;32m     15\u001B[0m \u001B[38;5;28;01mfrom\u001B[39;00m \u001B[38;5;21;01m.\u001B[39;00m\u001B[38;5;21;01mutils\u001B[39;00m \u001B[38;5;28;01mimport\u001B[39;00m (despine, axis_ticklabels_overlap, relative_luminance,\n\u001B[1;32m     16\u001B[0m                     to_utf8)\n",
      "File \u001B[0;32m~/anaconda3/lib/python3.10/site-packages/seaborn/cm.py:1582\u001B[0m\n\u001B[1;32m   1579\u001B[0m     _cmap_r \u001B[38;5;241m=\u001B[39m colors\u001B[38;5;241m.\u001B[39mListedColormap(_lut[::\u001B[38;5;241m-\u001B[39m\u001B[38;5;241m1\u001B[39m], _name \u001B[38;5;241m+\u001B[39m \u001B[38;5;124m\"\u001B[39m\u001B[38;5;124m_r\u001B[39m\u001B[38;5;124m\"\u001B[39m)  \n\u001B[1;32m   1580\u001B[0m     \u001B[38;5;28mlocals\u001B[39m()[_name \u001B[38;5;241m+\u001B[39m \u001B[38;5;124m\"\u001B[39m\u001B[38;5;124m_r\u001B[39m\u001B[38;5;124m\"\u001B[39m] \u001B[38;5;241m=\u001B[39m _cmap_r\n\u001B[0;32m-> 1582\u001B[0m     \u001B[43mmpl_cm\u001B[49m\u001B[38;5;241;43m.\u001B[39;49m\u001B[43mregister_cmap\u001B[49m(_name, _cmap)\n\u001B[1;32m   1583\u001B[0m     mpl_cm\u001B[38;5;241m.\u001B[39mregister_cmap(_name \u001B[38;5;241m+\u001B[39m \u001B[38;5;124m\"\u001B[39m\u001B[38;5;124m_r\u001B[39m\u001B[38;5;124m\"\u001B[39m, _cmap_r)\n\u001B[1;32m   1585\u001B[0m \u001B[38;5;28;01mdel\u001B[39;00m colors, mpl_cm\n",
      "\u001B[0;31mAttributeError\u001B[0m: module 'matplotlib.cm' has no attribute 'register_cmap'"
     ]
    }
   ],
   "execution_count": 1
  },
  {
   "cell_type": "code",
   "metadata": {},
   "source": [
    "\n",
    "print(\"Seaborn version:\", sns.__version__)"
   ],
   "outputs": [],
   "execution_count": null
  },
  {
   "attachments": {},
   "cell_type": "markdown",
   "metadata": {},
   "source": [
    "|  X1  |  X2  |  X3  |   Y   |\n",
    "|------|------|------|-------|\n",
    "|  10  |  5   |  20  |  500  |\n",
    "|   8  |  2   |  15  |  400  |\n",
    "|  12  |  6   |  18  |  550  |\n",
    "|   6  |  3   |  10  |  350  |\n",
    "|   9  |  4   |  22  |  480  |"
   ]
  },
  {
   "cell_type": "markdown",
   "metadata": {},
   "source": [
    "|                | <span style=\"color:yellow\">Feature Selection       | <span style=\"color:yellow\">Feature Correlation     </span>                                                 |\n",
    "|----------------|------------------------------------------------------------------|------------------------------------------------------------------------|\n",
    "| Purpose        | Select a subset of relevant features from a larger set          | Measure the statistical relationship between features                     |\n",
    "| Goal           | Improve model performance, reduce complexity, enhance interpretability            |Understand dependencies, identify collinear features  |\n",
    "| Focus          | Selection of informative and discriminative features                     | Measurement of association between variables                   |\n",
    "| Outcome        | Reduced dimensionality, improved model performance    | Insights into relationships, identification of collinearity |\n",
    "| Techniques     | Filter methods, wrapper methods, embedded methods |  Correlation coefficients, such as Pearson's correlation coefficient |\n",
    "| Considerations | Relevance to the target variable, redundancy, importance             | Strength and direction of association, collinearity                |\n",
    "| Impact         | Improved model accuracy, efficiency, interpretability         | Insights into feature relationships, data preprocessing                  |\n",
    "\n",
    "These two concepts are not mutually exclusive. Feature correlation can be considered as a factor in the feature selection process, but feature selection involves broader considerations beyond just correlation. The choice and combination of feature selection techniques and correlation analysis depend on the specific problem, dataset, and goals of the analysis."
   ]
  },
  {
   "attachments": {},
   "cell_type": "markdown",
   "metadata": {},
   "source": [
    "|                   | <span style=\"color:yellow\">Correlation between Independent Variables</span>               | <span style=\"color:yellow\">Correlation between Independent and Target Variables</span>  |\n",
    "|--------------------------|-------------------------------------------------------|-----------------------------------------------------|\n",
    "| Definition               | Measures the relationship between two or more independent variables.  | Measures the relationship between an independent variable and a target variable. |\n",
    "| Purpose                  | Identify patterns and dependencies among independent variables. | Assess the predictive power or influence of a feature on the target variable. |\n",
    "| Type of Relationship     | Linear relationship between independent variables.    | Linear relationship between independent and target variables. |\n",
    "| Measurement Range        | -1 (perfect negative correlation) to +1 (perfect positive correlation). | -1 (perfect negative correlation) to +1 (perfect positive correlation). |\n",
    "| Interpretation           | - Positive correlation: Variables move together in the same direction. <br> - Negative correlation: Variables move in opposite directions. <br> - No correlation: Variables have no linear relationship. | - Positive correlation: Increase in independent variable associated with increase in target variable. <br> - Negative correlation: Increase in independent variable associated with decrease in target variable. <br> - No correlation: Independent variable has no linear relationship with target variable. |\n",
    "| Application              | Feature correlation, identifying redundant or collinear features. | Feature selection, understanding predictors' impact on the target, model building. |"
   ]
  },
  {
   "cell_type": "markdown",
   "metadata": {},
   "source": [
    "## Scatter Plot\n",
    "\n",
    "1. A scatter plot is a visual representation of the relationship between two variables in a dataset, where each data point is represented as a point on the plot.\n",
    "    -   The x-axis of the scatter plot represents one variable, while the y-axis represents the other variable.\n",
    "    -   Each point on the scatter plot corresponds to a specific combination of values for the two variables, allowing for a visual examination of their joint behavior.\n",
    "2. Scatter plots can reveal different types of relationships between variables:\n",
    "    -   <span style=\"color:yellow\">Positive correlation</span> is indicated when the points on the scatter plot tend to form an upward trend, suggesting that as one variable increases, the other variable also tends to increase.\n",
    "    -   <span style=\"color:yellow\">Negative correlation</span> is observed when the points on the scatter plot tend to form a downward trend, indicating that as one variable increases, the other variable tends to decrease.\n",
    "    -   <span style=\"color:yellow\">A lack of correlation</span> is depicted by points scattered randomly across the plot, indicating no significant relationship between the variables.\n",
    "3. Scatter plots are effective for exploring and understanding the correlation, patterns, and trends between two numerical variables, and identify potential patterns or outliers."
   ]
  },
  {
   "attachments": {},
   "cell_type": "markdown",
   "metadata": {},
   "source": [
    "#### Positive correlation\n",
    "Some examples:\n",
    "-   The more hours a student studies, the higher their exam score tends to be.\n",
    "-   As the temperature increases, the sales of ice cream also tend to increase.\n",
    "-   The more years of experience a person has, the higher their salary tends to be.\n",
    "\n",
    "It can be useful for:\n",
    "\n",
    "-   In Feature selection: identifying positively correlated features can help in selecting relevant features for predictive models, as they may provide similar information. If two or more features are highly positively correlated, keeping only one of them may be sufficient for model training while still capturing the underlying relationship."
   ]
  },
  {
   "cell_type": "code",
   "metadata": {},
   "source": [
    "# Sample data\n",
    "x = [1, 2, 3, 4, 5, 6, 7, 8, 9, 10]\n",
    "y = [30, 40, 50, 60, 70, 80, 90, 95, 98, 100]\n",
    "\n",
    "# Creating scatter plot\n",
    "plt.scatter(x, y, color='blue')\n",
    "\n",
    "# Customizing the plot\n",
    "plt.title(\"Scatter Plot - Positive Correlation\")\n",
    "plt.xlabel(\"Hours Studied\")\n",
    "plt.ylabel(\"Exam Score\")\n",
    "\n",
    "# Displaying the x and y values on the ticks\n",
    "plt.xticks(x)\n",
    "plt.yticks(y)\n",
    "\n",
    "# Adding a grid\n",
    "plt.grid(True, linewidth=0.2)"
   ],
   "outputs": [],
   "execution_count": null
  },
  {
   "attachments": {},
   "cell_type": "markdown",
   "metadata": {},
   "source": [
    "#### Negative correlation\n",
    "Some examples:\n",
    "-   As the amount of exercise increases, body weight tends to decrease.\n",
    "-   The more time spent commuting to work, the lower job satisfaction tends to be.\n",
    "-   As the temperature drops, heating costs tend to increase.\n",
    "\n",
    "It can be useful for:\n",
    "\n",
    "- Feature selection: identifying negatively correlated features can help in avoiding redundant or collinear features during the feature selection process. When two features are highly negatively correlated, it suggests that they provide similar information, and including both of them in the model may not contribute much additional information. In such cases, selecting only one of the negatively correlated features can help improve model interpretability and reduce overfitting.\n",
    "- Anomaly detection: negative correlations can help detect unusual patterns or outliers in the data, where one variable behaves differently from the expected relationship."
   ]
  },
  {
   "cell_type": "code",
   "metadata": {},
   "source": [
    "# Sample data\n",
    "temperature = [15, 12, 10, 8, 5, 2, 0, -3, -5, -8]\n",
    "heating_costs = [8000, 9000, 10000, 11000, 12000, 13000, 14000, 15000, 16000, 17000]\n",
    "\n",
    "# Creating scatter plot\n",
    "plt.scatter(temperature, heating_costs, color='blue')\n",
    "\n",
    "# Customizing the plot\n",
    "plt.title(\"Scatter Plot - Negative Correlation\")\n",
    "plt.xlabel(\"Temperature (°C)\")\n",
    "plt.ylabel(\"Heating Costs (JPY)\")\n",
    "\n",
    "# Displaying the x and y values on the ticks\n",
    "plt.xticks(temperature)\n",
    "plt.yticks(heating_costs)\n",
    "\n",
    "# Adding a grid\n",
    "plt.grid(True, linewidth=0.2)"
   ],
   "outputs": [],
   "execution_count": null
  },
  {
   "attachments": {},
   "cell_type": "markdown",
   "metadata": {},
   "source": [
    "#### Lack of correlation\n",
    "Some examples:\n",
    "-   There is no clear relationship between shoe size and intelligence.\n",
    "-   There is no correlation between the number of hours slept and shoe size.\n",
    "-   The amount of rainfall does not affect the price of stocks.\n",
    "\n",
    "It can be useful for:\n",
    "\n",
    "-   Feature Selection: identifying variables with no correlation to the target variable can help in excluding irrelevant features that do not contribute to the predictive power of the model."
   ]
  },
  {
   "cell_type": "code",
   "metadata": {},
   "source": [
    "# Sample data\n",
    "x = [1, 2, 3, 4, 5, 6, 7, 8, 9, 10]\n",
    "y = [100, 95, 98, 105, 102, 98, 100, 105, 101, 99]\n",
    "\n",
    "# Creating scatter plot\n",
    "plt.scatter(x, y, color='blue')\n",
    "\n",
    "# Customizing the plot\n",
    "plt.title(\"Scatter Plot - Lack of Correlation\")\n",
    "plt.xlabel(\"Amount of Rainfall\")\n",
    "plt.ylabel(\"Stock Price (USD)\")\n",
    "\n",
    "# Displaying the x and y values on the ticks\n",
    "plt.xticks(x)\n",
    "plt.yticks(y)\n",
    "\n",
    "# Adding a grid\n",
    "plt.grid(True, linewidth=0.2)"
   ],
   "outputs": [],
   "execution_count": null
  },
  {
   "attachments": {},
   "cell_type": "markdown",
   "metadata": {},
   "source": [
    "### Improve the Scatter plot"
   ]
  },
  {
   "cell_type": "code",
   "metadata": {},
   "source": [
    "# Generate random data from a normal distribution\n",
    "np.random.seed(0)\n",
    "x = np.random.normal(loc=0, scale=1, size=100)\n",
    "y = np.random.normal(loc=0, scale=1, size=100)\n",
    "\n",
    "# Create a scatter plot, increase the size the markers\n",
    "plt.scatter(x, y, color='blue', alpha=0.5, s=80)\n",
    "\n",
    "# Customize the plot\n",
    "plt.title('Scatter Plot', fontsize=16, fontweight='bold')\n",
    "plt.xlabel('X', fontsize=12)\n",
    "plt.ylabel('Y', fontsize=12)\n",
    "plt.grid(True, linestyle='--', linewidth=0.5, alpha=0.5)\n",
    "\n",
    "\n",
    "# Adjust the spacing and layout\n",
    "plt.tight_layout()"
   ],
   "outputs": [],
   "execution_count": null
  },
  {
   "cell_type": "code",
   "metadata": {},
   "source": [
    "# Generate random data from a normal distribution\n",
    "np.random.seed(0)\n",
    "x = np.random.normal(loc=0, scale=1, size=100)\n",
    "y = np.random.normal(loc=0, scale=1, size=100)\n",
    "\n",
    "# Add Transparency Gradient\n",
    "alpha = np.linspace(0.2, 1, len(x))\n",
    "\n",
    "# Create a scatter plot\n",
    "plt.scatter(x, y, color='blue', alpha=alpha, s=80)\n",
    "\n",
    "# Customize the plot\n",
    "plt.title('Scatter Plot', fontsize=16, fontweight='bold')\n",
    "plt.xlabel('X', fontsize=12)\n",
    "plt.ylabel('Y', fontsize=12)\n",
    "plt.grid(True, linestyle='--', linewidth=0.5, alpha=0.5)\n",
    "\n",
    "\n",
    "# Adjust the spacing and layout\n",
    "plt.tight_layout()"
   ],
   "outputs": [],
   "execution_count": null
  },
  {
   "cell_type": "code",
   "metadata": {},
   "source": [
    "# Set figure size\n",
    "plt.figure(figsize=(8, 6))\n",
    "\n",
    "# Generate random data from a normal distribution\n",
    "np.random.seed(0)\n",
    "x = np.random.normal(loc=0, scale=1, size=100)\n",
    "y = np.random.normal(loc=0, scale=1, size=100)\n",
    "\n",
    "# Generate a third variable contains the value of each data point\n",
    "z = np.random.rand(len(x))\n",
    "\n",
    "# Set marker color based on z\n",
    "plt.scatter(x, y, c=z, cmap='coolwarm', s=80)\n",
    "\n",
    "# Add colorbar\n",
    "cbar = plt.colorbar()\n",
    "cbar.set_label('Color')\n",
    "\n",
    "# Customize the plot\n",
    "plt.title('Scatter Plot', fontsize=16, fontweight='bold')\n",
    "plt.xlabel('X', fontsize=12)\n",
    "plt.ylabel('Y', fontsize=12)\n",
    "plt.grid(True, linestyle='--', linewidth=0.5, alpha=0.5)\n",
    "\n",
    "# Adjust the spacing and layout\n",
    "plt.tight_layout()\n"
   ],
   "outputs": [],
   "execution_count": null
  },
  {
   "cell_type": "code",
   "metadata": {},
   "source": [
    "# Set figure size\n",
    "plt.figure(figsize=(8, 6))\n",
    "\n",
    "# Generate random data from a normal distribution\n",
    "np.random.seed(0)\n",
    "x = np.random.normal(loc=0, scale=1, size=100)\n",
    "y = np.random.normal(loc=0, scale=1, size=100)\n",
    "\n",
    "# Generate a third variable contains the value of each data point\n",
    "z = np.random.rand(len(x))\n",
    "\n",
    "# Set marker color and size based on z\n",
    "plt.scatter(x, y, c=z, cmap='coolwarm', s=100*z)\n",
    "\n",
    "# Add colorbar\n",
    "cbar = plt.colorbar()\n",
    "cbar.set_label('Color')\n",
    "\n",
    "# Customize the plot\n",
    "plt.title('Scatter Plot', fontsize=16, fontweight='bold')\n",
    "plt.xlabel('X', fontsize=12)\n",
    "plt.ylabel('Y', fontsize=12)\n",
    "plt.grid(True, linestyle='--', linewidth=0.5, alpha=0.5)\n",
    "\n",
    "# Adjust the spacing and layout\n",
    "plt.tight_layout()\n"
   ],
   "outputs": [],
   "execution_count": null
  },
  {
   "cell_type": "code",
   "metadata": {},
   "source": [
    "# Set figure size\n",
    "plt.figure(figsize=(8, 6))\n",
    "\n",
    "# Generate random data from a normal distribution\n",
    "np.random.seed(0)\n",
    "x = np.random.normal(loc=0, scale=1, size=100)\n",
    "y = np.random.normal(loc=0, scale=1, size=100)\n",
    "\n",
    "# Generate a third variable contains the value of each data point\n",
    "z = np.random.rand(len(x))\n",
    "\n",
    "# Create a scatter plot using Seaborn\n",
    "sns.scatterplot(x=x, y=y, hue=z, palette='coolwarm', size=z, sizes=(50, 500), zorder=2)\n",
    "\n",
    "\n",
    "# Customize the plot\n",
    "plt.title('Scatter Plot', fontsize=16, fontweight='bold')\n",
    "plt.xlabel('X', fontsize=12)\n",
    "plt.ylabel('Y', fontsize=12)\n",
    "plt.grid(True, linestyle='--', linewidth=0.5, alpha=0.5)\n",
    "\n",
    "# Adjust the spacing and layout\n",
    "plt.tight_layout()"
   ],
   "outputs": [],
   "execution_count": null
  },
  {
   "attachments": {},
   "cell_type": "markdown",
   "metadata": {},
   "source": [
    "#### For Iris dataset"
   ]
  },
  {
   "cell_type": "code",
   "metadata": {},
   "source": [
    "# Load the Iris dataset\n",
    "iris = sns.load_dataset('iris')\n",
    "\n",
    "# Create a scatter plot using Seaborn\n",
    "sns.scatterplot(x='sepal_length', y='sepal_width', hue='species', data=iris, palette='Set2')\n",
    "\n",
    "# Customize the plot\n",
    "plt.title('Iris Dataset - Sepal Length vs Sepal Width')\n",
    "plt.xlabel('Sepal Length')\n",
    "plt.ylabel('Sepal Width')"
   ],
   "outputs": [],
   "execution_count": null
  },
  {
   "attachments": {},
   "cell_type": "markdown",
   "metadata": {},
   "source": [
    "## Pair Plot\n",
    "\n",
    "1. The pairplot function takes a DataFrame as input and produces a grid of subplots, with each subplot showing the scatter plot between two variables.\n",
    "2. The diagonal subplots of the pairplot display the distribution of each variable separately.\n",
    "3. The off-diagonal subplots show the scatter plots between pairs of variables, allowing for the examination of the relationships between different combinations of variables.\n",
    "4. By specifying additional parameters, such as the 'hue' parameter, the pairplot can be used to differentiate the data points based on a categorical variable. This allows for the visualization of different groups or categories in the dataset.\n",
    "5. Pairplots are particularly useful in exploratory data analysis as they provide a comprehensive overview of the relationships between multiple variables in a dataset.\n",
    "6. They can help identify patterns, correlations, and potential outliers in the data."
   ]
  },
  {
   "cell_type": "code",
   "metadata": {},
   "source": [
    "iris = sns.load_dataset('iris')\n",
    "iris"
   ],
   "outputs": [],
   "execution_count": null
  },
  {
   "cell_type": "code",
   "metadata": {},
   "source": [
    "# Load the Iris dataset\n",
    "iris = sns.load_dataset('iris')\n",
    "\n",
    "# Create the correlation plot with Pearson correlation\n",
    "sns.pairplot(iris, hue='species', palette='Set2', markers=[\"o\", \"s\", \"D\"])\n"
   ],
   "outputs": [],
   "execution_count": null
  },
  {
   "attachments": {},
   "cell_type": "markdown",
   "metadata": {},
   "source": [
    "## PairGrid\n",
    "\n",
    "1. The PairGrid class in seaborn provides a flexible way to create a grid of subplots for pairwise relationships between variables in a dataset.\n",
    "2. Unlike pairplot, PairGrid gives you more control over the layout and customization of the plots.\n",
    "3. With PairGrid, you can specify different types of plots for the upper triangle, lower triangle, and diagonal cells of the grid.\n",
    "4. The upper triangle typically shows scatter plots or other types of plots that visualize the relationship between two variables.\n",
    "5. The lower triangle can display different types of plots, such as scatter plots, heatmaps, or kernel density estimate (KDE) plots, for visualizing the distribution or density of data.\n",
    "6. The diagonal cells are usually used to plot histograms or other univariate plots for each variable separately.\n",
    "7. PairGrid allows you to map different plotting functions to the different parts of the grid, giving you the flexibility to choose the most appropriate plot type for each position."
   ]
  },
  {
   "cell_type": "code",
   "metadata": {},
   "source": [
    "# Load the Iris dataset\n",
    "iris = sns.load_dataset('iris')\n",
    "\n",
    "# Create a PairGrid\n",
    "g = sns.PairGrid(iris, hue='species', palette='Set2')\n",
    "\n",
    "# Scatterplot for all cells\n",
    "g.map(sns.scatterplot)\n",
    "\n",
    "# # Add a legend\n",
    "# g.add_legend()\n",
    "\n",
    "# Customize the plot\n",
    "g.figure.suptitle('Iris Dataset - PairGrid', fontsize=16, fontweight='bold')\n",
    "g.figure.tight_layout()\n"
   ],
   "outputs": [],
   "execution_count": null
  },
  {
   "cell_type": "code",
   "metadata": {},
   "source": [
    "# Load the Iris dataset\n",
    "iris = sns.load_dataset('iris')\n",
    "\n",
    "# Create a PairGrid\n",
    "g = sns.PairGrid(iris, hue='species', palette='Set2')\n",
    "\n",
    "# # Histograms on the diagonal\n",
    "g.map_diag(sns.histplot, kde=True)\n",
    "\n",
    "# Scatterplots on the off-diagonal cells\n",
    "g.map_offdiag(sns.scatterplot)\n",
    "\n",
    "# Add a legend\n",
    "# g.add_legend()\n",
    "\n",
    "# Customize the plot\n",
    "g.figure.suptitle('Iris Dataset - PairGrid', fontsize=16, fontweight='bold')\n",
    "g.figure.tight_layout()"
   ],
   "outputs": [],
   "execution_count": null
  },
  {
   "cell_type": "code",
   "metadata": {},
   "source": [
    "# Load the Iris dataset\n",
    "iris = sns.load_dataset('iris')\n",
    "\n",
    "# Create a PairGrid\n",
    "g = sns.PairGrid(iris, hue='species', palette='Set2')\n",
    "\n",
    "# Scatterplot in the upper triangle\n",
    "g.map_upper(sns.scatterplot)\n",
    "\n",
    "# Kernel density estimate plot in the lower triangle\n",
    "g.map_lower(sns.kdeplot)\n",
    "\n",
    "# Histograms on the diagonal\n",
    "g.map_diag(sns.histplot, kde=True)\n",
    "\n",
    "# # Add a legend\n",
    "# g.add_legend()\n",
    "\n",
    "# Customize the plot\n",
    "g.figure.suptitle('Iris Dataset - PairGrid', fontsize=16, fontweight='bold')\n",
    "g.figure.tight_layout()"
   ],
   "outputs": [],
   "execution_count": null
  },
  {
   "cell_type": "code",
   "metadata": {},
   "source": [
    "# Load the Iris dataset\n",
    "iris = sns.load_dataset('iris')\n",
    "\n",
    "# Create a PairGrid\n",
    "g = sns.PairGrid(iris, hue='species', palette='Set2', diag_sharey=False, corner=True)\n",
    "\n",
    "# Scatterplots on the lower triangle\n",
    "g.map_lower(sns.scatterplot)\n",
    "\n",
    "# KDE plots on the diagonal\n",
    "g.map_diag(sns.kdeplot)\n",
    "\n",
    "# Add a legend\n",
    "g.add_legend()\n",
    "\n",
    "# Customize the plot\n",
    "g.fig.suptitle('Iris Dataset - PairGrid', fontsize=16, fontweight='bold')\n",
    "g.fig.tight_layout()"
   ],
   "outputs": [],
   "execution_count": null
  },
  {
   "cell_type": "code",
   "metadata": {},
   "source": [
    "pip install ptitprince"
   ],
   "outputs": [],
   "execution_count": null
  },
  {
   "cell_type": "markdown",
   "metadata": {},
   "source": [
    "https://github.com/pog87/PtitPrince/blob/master/tutorial_python/raincloud_tutorial_python.ipynb"
   ]
  },
  {
   "cell_type": "code",
   "metadata": {},
   "source": [
    "pip install seaborn==0.11"
   ],
   "outputs": [],
   "execution_count": null
  },
  {
   "cell_type": "code",
   "metadata": {},
   "source": [
    "import ptitprince as pt\n",
    "import seaborn as sns\n",
    "iris = sns.load_dataset('iris')"
   ],
   "outputs": [],
   "execution_count": null
  },
  {
   "cell_type": "code",
   "metadata": {},
   "source": [
    "ort = \"h\"; pal = \"Set2\"; sigma = .2\n",
    "f, ax = plt.subplots(figsize=(7, 5))\n",
    "\n",
    "pt.RainCloud(x = 'species', y = 'sepal_width', hue='species', data = iris, palette = pal, bw = sigma,\n",
    "                 width_viol = .6, ax = ax, orient = ort, move = .2)"
   ],
   "outputs": [],
   "execution_count": null
  },
  {
   "cell_type": "code",
   "metadata": {},
   "source": [
    "ort = \"v\"; pal = \"Set2\"; sigma = .2\n",
    "f, ax = plt.subplots(figsize=(7, 5))\n",
    "\n",
    "pt.RainCloud(x = 'species', y = 'sepal_width', hue='species',data = iris, palette = pal, bw = sigma,\n",
    "                 width_viol = .6, ax = ax, orient = ort, move = .2)"
   ],
   "outputs": [],
   "execution_count": null
  },
  {
   "cell_type": "code",
   "metadata": {},
   "source": [
    "ort = \"h\"; pal = \"Set2\"; sigma = .15\n",
    "f, ax = plt.subplots(figsize=(7, 5))\n",
    "\n",
    "pt.RainCloud(x = 'species', y = 'sepal_width', hue='species', data = iris, palette = pal, bw = sigma,\n",
    "                 width_viol = .6, ax = ax, orient = ort, move = .2)"
   ],
   "outputs": [],
   "execution_count": null
  },
  {
   "cell_type": "code",
   "metadata": {},
   "source": [
    "ort = \"h\"; pal = \"Set2\"; sigma = .2\n",
    "f, ax = plt.subplots(figsize=(7, 5))\n",
    "\n",
    "pt.RainCloud(x = 'species', y = 'sepal_width', data = iris, palette = pal, bw = sigma,\n",
    "                 width_viol = .6, ax = ax, orient = ort, move = .2,  pointplot = True)"
   ],
   "outputs": [],
   "execution_count": null
  },
  {
   "cell_type": "code",
   "metadata": {},
   "source": [
    "ort = \"v\"; pal = \"Set2\"; sigma = .2\n",
    "f, ax = plt.subplots(figsize=(7, 5))\n",
    "\n",
    "pt.RainCloud(x = 'species', y = 'sepal_width', data = iris, palette = pal, bw = sigma,\n",
    "                 width_viol = .6, ax = ax, orient = ort, move = .2,  pointplot = True)"
   ],
   "outputs": [],
   "execution_count": null
  }
 ],
 "metadata": {
  "colab": {
   "collapsed_sections": [
    "6Tm3O511a5NH",
    "IETtcFCXzSIX",
    "IqgMK4u7zg2y",
    "wTsaP62ca_9y",
    "6IEfdsc_bqkg",
    "LmC_nmM7b-No"
   ],
   "name": "01_data_viz_matplotlib.ipynb",
   "private_outputs": true,
   "provenance": []
  },
  "kernelspec": {
   "display_name": "Python 3.10.6 ('eda_f22')",
   "language": "python",
   "name": "python3"
  },
  "language_info": {
   "codemirror_mode": {
    "name": "ipython",
    "version": 3
   },
   "file_extension": ".py",
   "mimetype": "text/x-python",
   "name": "python",
   "nbconvert_exporter": "python",
   "pygments_lexer": "ipython3",
   "version": "3.12.3"
  },
  "vscode": {
   "interpreter": {
    "hash": "91107443407fe20e9f8564508fff1a9bf4f5cef9181c7b76b35297ac52438b91"
   }
  }
 },
 "nbformat": 4,
 "nbformat_minor": 0
}
