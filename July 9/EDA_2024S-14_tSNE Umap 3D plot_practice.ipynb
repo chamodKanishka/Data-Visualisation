{
 "cells": [
  {
   "cell_type": "code",
   "execution_count": 1,
   "id": "43be2fa2",
   "metadata": {},
   "outputs": [],
   "source": [
    "# pip install umap-learn"
   ]
  },
  {
   "cell_type": "code",
   "execution_count": null,
   "id": "3853fc09-dfc6-4095-ad1f-4f4048fecd77",
   "metadata": {},
   "outputs": [],
   "source": []
  },
  {
   "cell_type": "markdown",
   "id": "6dbacdc7",
   "metadata": {},
   "source": [
    "## 1. This part is for the Iris dataset that has only 4 features"
   ]
  },
  {
   "cell_type": "code",
   "execution_count": null,
   "id": "40170f2f",
   "metadata": {},
   "outputs": [],
   "source": []
  },
  {
   "cell_type": "code",
   "execution_count": null,
   "id": "0006d082",
   "metadata": {},
   "outputs": [],
   "source": []
  },
  {
   "cell_type": "markdown",
   "id": "34b306db",
   "metadata": {},
   "source": [
    "## 2. This part is for dataset that has more than 10 features"
   ]
  },
  {
   "cell_type": "markdown",
   "id": "e9c0085a",
   "metadata": {},
   "source": [
    "##### Read the Fm3m.csv dataset to a dataframe named AB_compound_df, set index_col = 0"
   ]
  },
  {
   "cell_type": "code",
   "execution_count": null,
   "id": "8bdee058",
   "metadata": {},
   "outputs": [],
   "source": []
  },
  {
   "cell_type": "code",
   "execution_count": null,
   "id": "186c25e7",
   "metadata": {},
   "outputs": [],
   "source": []
  },
  {
   "cell_type": "code",
   "execution_count": null,
   "id": "612d6e3a",
   "metadata": {},
   "outputs": [],
   "source": []
  },
  {
   "cell_type": "markdown",
   "id": "1d2e0fd7",
   "metadata": {},
   "source": [
    "##### Load the distance matrix, save to dm_normed\n",
    "\n",
    "This distance matrix contains dissimilarity between pairwise compounds in the dataset. I have computed and normalized it"
   ]
  },
  {
   "cell_type": "code",
   "execution_count": null,
   "id": "d6a137a5-e139-472e-b665-e722d4ed35e2",
   "metadata": {},
   "outputs": [],
   "source": []
  },
  {
   "cell_type": "markdown",
   "id": "ac3e8988",
   "metadata": {},
   "source": [
    "##### Run UMAP for the distance matrix\n",
    "Hint: Use the parameter metric='precomputed' in UMAP, then save the coordinates of all data points gerenated by UMAP to a txt file named arr_embedding.txt "
   ]
  },
  {
   "cell_type": "code",
   "execution_count": null,
   "id": "bc2d262c-9f94-47b3-9579-5ae350961308",
   "metadata": {},
   "outputs": [],
   "source": []
  },
  {
   "cell_type": "markdown",
   "id": "751cb4b9",
   "metadata": {},
   "source": [
    "##### Plot a scatter of Umap coords obtained from the previous steps"
   ]
  },
  {
   "cell_type": "code",
   "execution_count": null,
   "id": "9b9faa74-b16b-4a0a-a3df-2e8432e72a9f",
   "metadata": {},
   "outputs": [],
   "source": []
  },
  {
   "cell_type": "markdown",
   "id": "1d707f03",
   "metadata": {},
   "source": [
    "##### Read the file df_embedding.csv into a dataframe, set the column \"compound\" as its index"
   ]
  },
  {
   "cell_type": "code",
   "execution_count": null,
   "id": "4b536e9e-c35f-4492-ae05-d69e0b8ab813",
   "metadata": {},
   "outputs": [],
   "source": []
  },
  {
   "cell_type": "markdown",
   "id": "fbc191f5",
   "metadata": {},
   "source": [
    "##### Plot a heatmap"
   ]
  },
  {
   "cell_type": "code",
   "execution_count": null,
   "id": "f99f9266",
   "metadata": {},
   "outputs": [],
   "source": []
  },
  {
   "cell_type": "code",
   "execution_count": null,
   "id": "027de978",
   "metadata": {},
   "outputs": [],
   "source": []
  },
  {
   "cell_type": "markdown",
   "id": "c47ac152",
   "metadata": {},
   "source": [
    "##### Use k-means from scikit-learn to cluster the umap_coords obtained in the previous step. "
   ]
  },
  {
   "cell_type": "code",
   "execution_count": null,
   "id": "c418d516-6eae-44ac-a9a1-2606b1d3fae9",
   "metadata": {},
   "outputs": [],
   "source": []
  },
  {
   "cell_type": "markdown",
   "id": "38f95108",
   "metadata": {},
   "source": [
    "##### Attach the labels from clustering to df_embedding"
   ]
  },
  {
   "cell_type": "code",
   "execution_count": null,
   "id": "dc4c2380-247d-44cf-ba73-f1c3fcfef95b",
   "metadata": {},
   "outputs": [],
   "source": []
  },
  {
   "cell_type": "markdown",
   "id": "3cc4b38c",
   "metadata": {},
   "source": [
    "##### Plot the clusters using scatterplot and kdeplot"
   ]
  },
  {
   "cell_type": "code",
   "execution_count": null,
   "id": "bb77126f",
   "metadata": {},
   "outputs": [],
   "source": []
  }
 ],
 "metadata": {
  "kernelspec": {
   "display_name": "Python 3.9.12 ('eda')",
   "language": "python",
   "name": "python3"
  },
  "language_info": {
   "codemirror_mode": {
    "name": "ipython",
    "version": 3
   },
   "file_extension": ".py",
   "mimetype": "text/x-python",
   "name": "python",
   "nbconvert_exporter": "python",
   "pygments_lexer": "ipython3",
   "version": "3.11.3"
  },
  "vscode": {
   "interpreter": {
    "hash": "75a85d5534b59e76ef1b974f4fe17117e9ab68579e1d52c9738800d4f76579c8"
   }
  }
 },
 "nbformat": 4,
 "nbformat_minor": 5
}
